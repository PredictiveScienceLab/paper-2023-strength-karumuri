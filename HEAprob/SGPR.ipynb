{
 "cells": [
  {
   "cell_type": "code",
   "execution_count": 1,
   "metadata": {},
   "outputs": [],
   "source": [
    "import arviz as az\n",
    "import matplotlib.pyplot as plt\n",
    "%matplotlib inline\n",
    "import numpy as np\n",
    "import pandas as pd\n",
    "import GPy\n",
    "import pymc3 as pm\n",
    "from warnings import filterwarnings\n",
    "filterwarnings('ignore')\n",
    "import seaborn as sns\n",
    "# sns.set() # Setting seaborn as default style even if use only matplotlib\n",
    "import os\n",
    "os.environ['PYTHONHASHSEED'] = '0'\n",
    "plt.rcParams.update({'font.size': 10})"
   ]
  },
  {
   "cell_type": "code",
   "execution_count": 2,
   "metadata": {},
   "outputs": [],
   "source": [
    "seed = seed_subset_selection = 9 # Randomness \n",
    "np.random.seed(seed)"
   ]
  },
  {
   "cell_type": "code",
   "execution_count": 3,
   "metadata": {},
   "outputs": [],
   "source": [
    "resultdir = os.path.join(os.getcwd(), 'SGPR_results' ,str(seed)+'-seed') \n",
    "\n",
    "if not os.path.exists(resultdir):\n",
    "    os.makedirs(resultdir)"
   ]
  },
  {
   "cell_type": "code",
   "execution_count": 4,
   "metadata": {},
   "outputs": [],
   "source": [
    "import os\n",
    "path = (os.path.join(os.getcwd(), '..'))"
   ]
  },
  {
   "cell_type": "markdown",
   "metadata": {},
   "source": [
    "### NSF DMREF - Experimental"
   ]
  },
  {
   "cell_type": "markdown",
   "metadata": {},
   "source": [
    "Consider the following dataset:"
   ]
  },
  {
   "cell_type": "code",
   "execution_count": 5,
   "metadata": {},
   "outputs": [
    {
     "data": {
      "text/html": [
       "<div>\n",
       "<style scoped>\n",
       "    .dataframe tbody tr th:only-of-type {\n",
       "        vertical-align: middle;\n",
       "    }\n",
       "\n",
       "    .dataframe tbody tr th {\n",
       "        vertical-align: top;\n",
       "    }\n",
       "\n",
       "    .dataframe thead th {\n",
       "        text-align: right;\n",
       "    }\n",
       "</style>\n",
       "<table border=\"1\" class=\"dataframe\">\n",
       "  <thead>\n",
       "    <tr style=\"text-align: right;\">\n",
       "      <th></th>\n",
       "      <th>level_0</th>\n",
       "      <th>index</th>\n",
       "      <th>IDENTIFIER: Reference ID</th>\n",
       "      <th>FORMULA</th>\n",
       "      <th>PROPERTY: Microstructure</th>\n",
       "      <th>PROPERTY: Processing method</th>\n",
       "      <th>PROPERTY: grain size ($\\mu$m)</th>\n",
       "      <th>PROPERTY: ROM Density (g/cm$^3$)</th>\n",
       "      <th>PROPERTY: Exp. Density (g/cm$^3$)</th>\n",
       "      <th>PROPERTY: HV</th>\n",
       "      <th>...</th>\n",
       "      <th>pugh</th>\n",
       "      <th>VEC</th>\n",
       "      <th>SMIX</th>\n",
       "      <th>ModulusMX</th>\n",
       "      <th>DensityMX</th>\n",
       "      <th>TmMX</th>\n",
       "      <th>R_MX</th>\n",
       "      <th>shearMX</th>\n",
       "      <th>bulkMX</th>\n",
       "      <th>VECMX</th>\n",
       "    </tr>\n",
       "  </thead>\n",
       "  <tbody>\n",
       "    <tr>\n",
       "      <th>0</th>\n",
       "      <td>0</td>\n",
       "      <td>0</td>\n",
       "      <td>27</td>\n",
       "      <td>Al0.25 Co1 Fe1 Ni1</td>\n",
       "      <td>FCC</td>\n",
       "      <td>CAST</td>\n",
       "      <td>NaN</td>\n",
       "      <td>7.9</td>\n",
       "      <td>NaN</td>\n",
       "      <td>138.0</td>\n",
       "      <td>...</td>\n",
       "      <td>2.292276</td>\n",
       "      <td>8.538462</td>\n",
       "      <td>1.285293</td>\n",
       "      <td>141.0</td>\n",
       "      <td>6.209282</td>\n",
       "      <td>877.68</td>\n",
       "      <td>19.05</td>\n",
       "      <td>56.0</td>\n",
       "      <td>104.0</td>\n",
       "      <td>7.0</td>\n",
       "    </tr>\n",
       "    <tr>\n",
       "      <th>1</th>\n",
       "      <td>1</td>\n",
       "      <td>1</td>\n",
       "      <td>27</td>\n",
       "      <td>Al0.5 Co1 Fe1 Ni1</td>\n",
       "      <td>FCC+BCC</td>\n",
       "      <td>CAST</td>\n",
       "      <td>NaN</td>\n",
       "      <td>7.4</td>\n",
       "      <td>NaN</td>\n",
       "      <td>212.0</td>\n",
       "      <td>...</td>\n",
       "      <td>2.308943</td>\n",
       "      <td>8.142857</td>\n",
       "      <td>1.351784</td>\n",
       "      <td>141.0</td>\n",
       "      <td>6.209282</td>\n",
       "      <td>877.68</td>\n",
       "      <td>19.05</td>\n",
       "      <td>56.0</td>\n",
       "      <td>104.0</td>\n",
       "      <td>7.0</td>\n",
       "    </tr>\n",
       "    <tr>\n",
       "      <th>2</th>\n",
       "      <td>2</td>\n",
       "      <td>2</td>\n",
       "      <td>27</td>\n",
       "      <td>Al0.75 Co1 Fe1 Ni1</td>\n",
       "      <td>FCC+BCC</td>\n",
       "      <td>CAST</td>\n",
       "      <td>NaN</td>\n",
       "      <td>7.0</td>\n",
       "      <td>NaN</td>\n",
       "      <td>385.0</td>\n",
       "      <td>...</td>\n",
       "      <td>2.324752</td>\n",
       "      <td>7.800000</td>\n",
       "      <td>1.379292</td>\n",
       "      <td>141.0</td>\n",
       "      <td>6.209282</td>\n",
       "      <td>877.68</td>\n",
       "      <td>19.05</td>\n",
       "      <td>56.0</td>\n",
       "      <td>104.0</td>\n",
       "      <td>7.0</td>\n",
       "    </tr>\n",
       "    <tr>\n",
       "      <th>3</th>\n",
       "      <td>3</td>\n",
       "      <td>3</td>\n",
       "      <td>27</td>\n",
       "      <td>Al1 Co1 Fe1 Ni1</td>\n",
       "      <td>BCC</td>\n",
       "      <td>CAST</td>\n",
       "      <td>NaN</td>\n",
       "      <td>6.6</td>\n",
       "      <td>NaN</td>\n",
       "      <td>456.0</td>\n",
       "      <td>...</td>\n",
       "      <td>2.339768</td>\n",
       "      <td>7.500000</td>\n",
       "      <td>1.386294</td>\n",
       "      <td>141.0</td>\n",
       "      <td>6.209282</td>\n",
       "      <td>877.68</td>\n",
       "      <td>19.05</td>\n",
       "      <td>56.0</td>\n",
       "      <td>104.0</td>\n",
       "      <td>7.0</td>\n",
       "    </tr>\n",
       "    <tr>\n",
       "      <th>4</th>\n",
       "      <td>4</td>\n",
       "      <td>4</td>\n",
       "      <td>27</td>\n",
       "      <td>Co1 Fe1 Ni1</td>\n",
       "      <td>FCC</td>\n",
       "      <td>CAST</td>\n",
       "      <td>NaN</td>\n",
       "      <td>8.5</td>\n",
       "      <td>NaN</td>\n",
       "      <td>125.0</td>\n",
       "      <td>...</td>\n",
       "      <td>2.274678</td>\n",
       "      <td>9.000000</td>\n",
       "      <td>1.098612</td>\n",
       "      <td>11.0</td>\n",
       "      <td>1.030567</td>\n",
       "      <td>83.00</td>\n",
       "      <td>0.98</td>\n",
       "      <td>7.0</td>\n",
       "      <td>10.0</td>\n",
       "      <td>2.0</td>\n",
       "    </tr>\n",
       "    <tr>\n",
       "      <th>...</th>\n",
       "      <td>...</td>\n",
       "      <td>...</td>\n",
       "      <td>...</td>\n",
       "      <td>...</td>\n",
       "      <td>...</td>\n",
       "      <td>...</td>\n",
       "      <td>...</td>\n",
       "      <td>...</td>\n",
       "      <td>...</td>\n",
       "      <td>...</td>\n",
       "      <td>...</td>\n",
       "      <td>...</td>\n",
       "      <td>...</td>\n",
       "      <td>...</td>\n",
       "      <td>...</td>\n",
       "      <td>...</td>\n",
       "      <td>...</td>\n",
       "      <td>...</td>\n",
       "      <td>...</td>\n",
       "      <td>...</td>\n",
       "      <td>...</td>\n",
       "    </tr>\n",
       "    <tr>\n",
       "      <th>153</th>\n",
       "      <td>388</td>\n",
       "      <td>1562</td>\n",
       "      <td>116</td>\n",
       "      <td>Al0.6 Co1 Cr0.333 Fe0.333 Mo0.1 Ni0.967</td>\n",
       "      <td>No Data</td>\n",
       "      <td>CAST</td>\n",
       "      <td>NaN</td>\n",
       "      <td>NaN</td>\n",
       "      <td>NaN</td>\n",
       "      <td>359.7</td>\n",
       "      <td>...</td>\n",
       "      <td>2.298516</td>\n",
       "      <td>7.720372</td>\n",
       "      <td>1.594375</td>\n",
       "      <td>259.0</td>\n",
       "      <td>7.529991</td>\n",
       "      <td>1962.68</td>\n",
       "      <td>19.05</td>\n",
       "      <td>95.0</td>\n",
       "      <td>154.0</td>\n",
       "      <td>7.0</td>\n",
       "    </tr>\n",
       "    <tr>\n",
       "      <th>154</th>\n",
       "      <td>393</td>\n",
       "      <td>1574</td>\n",
       "      <td>121</td>\n",
       "      <td>Nb1 Ta1 Ti1 Zr1</td>\n",
       "      <td>BCC</td>\n",
       "      <td>CAST</td>\n",
       "      <td>500.0</td>\n",
       "      <td>NaN</td>\n",
       "      <td>NaN</td>\n",
       "      <td>358.0</td>\n",
       "      <td>...</td>\n",
       "      <td>3.092391</td>\n",
       "      <td>4.500000</td>\n",
       "      <td>1.386294</td>\n",
       "      <td>118.0</td>\n",
       "      <td>12.175346</td>\n",
       "      <td>1349.00</td>\n",
       "      <td>17.35</td>\n",
       "      <td>36.0</td>\n",
       "      <td>111.0</td>\n",
       "      <td>1.0</td>\n",
       "    </tr>\n",
       "    <tr>\n",
       "      <th>155</th>\n",
       "      <td>394</td>\n",
       "      <td>1578</td>\n",
       "      <td>121</td>\n",
       "      <td>Nb1 Ta0.667 Ti0.667 Zr0.333</td>\n",
       "      <td>No Data</td>\n",
       "      <td>CAST</td>\n",
       "      <td>500.0</td>\n",
       "      <td>NaN</td>\n",
       "      <td>NaN</td>\n",
       "      <td>294.0</td>\n",
       "      <td>...</td>\n",
       "      <td>3.267988</td>\n",
       "      <td>4.625047</td>\n",
       "      <td>1.320810</td>\n",
       "      <td>118.0</td>\n",
       "      <td>12.175346</td>\n",
       "      <td>1349.00</td>\n",
       "      <td>17.35</td>\n",
       "      <td>36.0</td>\n",
       "      <td>111.0</td>\n",
       "      <td>1.0</td>\n",
       "    </tr>\n",
       "    <tr>\n",
       "      <th>156</th>\n",
       "      <td>397</td>\n",
       "      <td>1631</td>\n",
       "      <td>131</td>\n",
       "      <td>Al0.267 Co1 Cr0.667 Fe0.667 Ni0.667 Ti0.2</td>\n",
       "      <td>No Data</td>\n",
       "      <td>POWDER</td>\n",
       "      <td>NaN</td>\n",
       "      <td>NaN</td>\n",
       "      <td>NaN</td>\n",
       "      <td>515.0</td>\n",
       "      <td>...</td>\n",
       "      <td>2.061561</td>\n",
       "      <td>7.672722</td>\n",
       "      <td>1.671721</td>\n",
       "      <td>209.0</td>\n",
       "      <td>6.209282</td>\n",
       "      <td>1246.68</td>\n",
       "      <td>22.03</td>\n",
       "      <td>89.0</td>\n",
       "      <td>104.0</td>\n",
       "      <td>7.0</td>\n",
       "    </tr>\n",
       "    <tr>\n",
       "      <th>157</th>\n",
       "      <td>398</td>\n",
       "      <td>1643</td>\n",
       "      <td>133</td>\n",
       "      <td>Al1 Nb1 Ti1 Zr1</td>\n",
       "      <td>B2</td>\n",
       "      <td>CAST</td>\n",
       "      <td>250.0</td>\n",
       "      <td>NaN</td>\n",
       "      <td>5.85</td>\n",
       "      <td>422.0</td>\n",
       "      <td>...</td>\n",
       "      <td>3.156028</td>\n",
       "      <td>4.000000</td>\n",
       "      <td>1.386294</td>\n",
       "      <td>48.0</td>\n",
       "      <td>5.880461</td>\n",
       "      <td>1816.68</td>\n",
       "      <td>17.35</td>\n",
       "      <td>18.0</td>\n",
       "      <td>94.0</td>\n",
       "      <td>2.0</td>\n",
       "    </tr>\n",
       "  </tbody>\n",
       "</table>\n",
       "<p>158 rows × 94 columns</p>\n",
       "</div>"
      ],
      "text/plain": [
       "     level_0  index  IDENTIFIER: Reference ID  \\\n",
       "0          0      0                        27   \n",
       "1          1      1                        27   \n",
       "2          2      2                        27   \n",
       "3          3      3                        27   \n",
       "4          4      4                        27   \n",
       "..       ...    ...                       ...   \n",
       "153      388   1562                       116   \n",
       "154      393   1574                       121   \n",
       "155      394   1578                       121   \n",
       "156      397   1631                       131   \n",
       "157      398   1643                       133   \n",
       "\n",
       "                                       FORMULA PROPERTY: Microstructure  \\\n",
       "0                           Al0.25 Co1 Fe1 Ni1                      FCC   \n",
       "1                            Al0.5 Co1 Fe1 Ni1                  FCC+BCC   \n",
       "2                           Al0.75 Co1 Fe1 Ni1                  FCC+BCC   \n",
       "3                              Al1 Co1 Fe1 Ni1                      BCC   \n",
       "4                                  Co1 Fe1 Ni1                      FCC   \n",
       "..                                         ...                      ...   \n",
       "153    Al0.6 Co1 Cr0.333 Fe0.333 Mo0.1 Ni0.967                  No Data   \n",
       "154                            Nb1 Ta1 Ti1 Zr1                      BCC   \n",
       "155                Nb1 Ta0.667 Ti0.667 Zr0.333                  No Data   \n",
       "156  Al0.267 Co1 Cr0.667 Fe0.667 Ni0.667 Ti0.2                  No Data   \n",
       "157                            Al1 Nb1 Ti1 Zr1                       B2   \n",
       "\n",
       "    PROPERTY: Processing method  PROPERTY: grain size ($\\mu$m)  \\\n",
       "0                          CAST                            NaN   \n",
       "1                          CAST                            NaN   \n",
       "2                          CAST                            NaN   \n",
       "3                          CAST                            NaN   \n",
       "4                          CAST                            NaN   \n",
       "..                          ...                            ...   \n",
       "153                        CAST                            NaN   \n",
       "154                        CAST                          500.0   \n",
       "155                        CAST                          500.0   \n",
       "156                      POWDER                            NaN   \n",
       "157                        CAST                          250.0   \n",
       "\n",
       "     PROPERTY: ROM Density (g/cm$^3$)  PROPERTY: Exp. Density (g/cm$^3$)  \\\n",
       "0                                 7.9                                NaN   \n",
       "1                                 7.4                                NaN   \n",
       "2                                 7.0                                NaN   \n",
       "3                                 6.6                                NaN   \n",
       "4                                 8.5                                NaN   \n",
       "..                                ...                                ...   \n",
       "153                               NaN                                NaN   \n",
       "154                               NaN                                NaN   \n",
       "155                               NaN                                NaN   \n",
       "156                               NaN                                NaN   \n",
       "157                               NaN                               5.85   \n",
       "\n",
       "     PROPERTY: HV  ...      pugh       VEC      SMIX  ModulusMX  DensityMX  \\\n",
       "0           138.0  ...  2.292276  8.538462  1.285293      141.0   6.209282   \n",
       "1           212.0  ...  2.308943  8.142857  1.351784      141.0   6.209282   \n",
       "2           385.0  ...  2.324752  7.800000  1.379292      141.0   6.209282   \n",
       "3           456.0  ...  2.339768  7.500000  1.386294      141.0   6.209282   \n",
       "4           125.0  ...  2.274678  9.000000  1.098612       11.0   1.030567   \n",
       "..            ...  ...       ...       ...       ...        ...        ...   \n",
       "153         359.7  ...  2.298516  7.720372  1.594375      259.0   7.529991   \n",
       "154         358.0  ...  3.092391  4.500000  1.386294      118.0  12.175346   \n",
       "155         294.0  ...  3.267988  4.625047  1.320810      118.0  12.175346   \n",
       "156         515.0  ...  2.061561  7.672722  1.671721      209.0   6.209282   \n",
       "157         422.0  ...  3.156028  4.000000  1.386294       48.0   5.880461   \n",
       "\n",
       "        TmMX   R_MX  shearMX  bulkMX  VECMX  \n",
       "0     877.68  19.05     56.0   104.0    7.0  \n",
       "1     877.68  19.05     56.0   104.0    7.0  \n",
       "2     877.68  19.05     56.0   104.0    7.0  \n",
       "3     877.68  19.05     56.0   104.0    7.0  \n",
       "4      83.00   0.98      7.0    10.0    2.0  \n",
       "..       ...    ...      ...     ...    ...  \n",
       "153  1962.68  19.05     95.0   154.0    7.0  \n",
       "154  1349.00  17.35     36.0   111.0    1.0  \n",
       "155  1349.00  17.35     36.0   111.0    1.0  \n",
       "156  1246.68  22.03     89.0   104.0    7.0  \n",
       "157  1816.68  17.35     18.0    94.0    2.0  \n",
       "\n",
       "[158 rows x 94 columns]"
      ]
     },
     "metadata": {},
     "output_type": "display_data"
    }
   ],
   "source": [
    "raw_data = pd.read_csv(os.path.join(path,'Strength_Hardness_with_Descriptors-Sh.csv'), index_col=0)\n",
    "display(raw_data)"
   ]
  },
  {
   "cell_type": "markdown",
   "metadata": {},
   "source": [
    "Extracting all relevant features:"
   ]
  },
  {
   "cell_type": "code",
   "execution_count": 6,
   "metadata": {},
   "outputs": [],
   "source": [
    "# The unscaled input and output features\n",
    "RoM = ['Density', 'Modulus', 'Tm', 'Misfit', 'Rbar', 'delta', 'shear', 'bulk', 'VEC', 'SMIX']\n",
    "MX = ['ModulusMX', 'DensityMX', 'TmMX', 'R_MX', 'shearMX', 'bulkMX', 'VECMX']\n",
    "Phase = ['Phase_BCC', 'Phase_BCC+BCC', 'Phase_BCC+Sec.', 'Phase_FCC', 'Phase_FCC+BCC', 'Phase_FCC+Sec.', 'Phase_No Data', 'Phase_Other']\n",
    "X = RoM + MX + Phase\n",
    "# Curtin = 'Delta_SS'\n",
    "H = 'PROPERTY: HV'\n",
    "S = 'PROPERTY: YS (MPa)'"
   ]
  },
  {
   "cell_type": "markdown",
   "metadata": {},
   "source": [
    "## SGPR"
   ]
  },
  {
   "cell_type": "markdown",
   "metadata": {},
   "source": [
    "In this Case, we are going to build a Strength model using GP"
   ]
  },
  {
   "cell_type": "markdown",
   "metadata": {},
   "source": [
    "using {X=[X_f(above),z_f], Y=y_f}, mean prediction = f_pred "
   ]
  },
  {
   "cell_type": "code",
   "execution_count": 7,
   "metadata": {},
   "outputs": [
    {
     "name": "stdout",
     "output_type": "stream",
     "text": [
      "Splitting\n",
      "(126, 94) (32, 94)\n"
     ]
    }
   ],
   "source": [
    "print ('Splitting')\n",
    "from sklearn.model_selection import train_test_split\n",
    "data_train, data_test = train_test_split(raw_data, test_size=0.2, random_state=seed_subset_selection)\n",
    "print (data_train.shape, data_test.shape)\n",
    "# print (data_train[:2])\n",
    "# print (data_test[:2])"
   ]
  },
  {
   "cell_type": "code",
   "execution_count": 8,
   "metadata": {},
   "outputs": [
    {
     "name": "stdout",
     "output_type": "stream",
     "text": [
      "Pre-processing the data for GP_f building\n",
      "Step1: Seperating\n",
      "Step2: Scaling [X_f, z_f], Scaling y_f\n"
     ]
    }
   ],
   "source": [
    "print ('Pre-processing the data for GP_f building')\n",
    "print ('Step1: Seperating')\n",
    "X_f, z_f, y_f = data_train[X].values, data_train[H].values[:, None], data_train[S].values[:, None] \n",
    "X_test, z_test, y_test = data_test[X].values, data_test[H].values[:, None], data_test[S].values[:, None] \n",
    "\n",
    "print('Step2: Scaling [X_f, z_f], Scaling y_f')\n",
    "# scale train data and use those means and dev for scaling test data to avoid info leakage\n",
    "from sklearn.preprocessing import StandardScaler\n",
    "scaler_X = StandardScaler()\n",
    "scaler_X.fit(X_f)\n",
    "X_f_s, X_test_s = scaler_X.transform(X_f), scaler_X.transform(X_test)\n",
    "scaler_z = StandardScaler()\n",
    "scaler_z.fit(z_f)\n",
    "z_f_s, z_test_s = scaler_z.transform(z_f), scaler_z.transform(z_test)\n",
    "scaler_y = StandardScaler()\n",
    "scaler_y.fit(y_f)\n",
    "y_f_s, y_test_s = scaler_y.transform(y_f), scaler_y.transform(y_test)"
   ]
  },
  {
   "cell_type": "code",
   "execution_count": 9,
   "metadata": {},
   "outputs": [
    {
     "name": "stdout",
     "output_type": "stream",
     "text": [
      "Training and testing dataset sizes\n",
      "(126, 25) (126, 1) (126, 1)\n",
      "(32, 25) (32, 1) (32, 1)\n"
     ]
    }
   ],
   "source": [
    "print ('Training and testing dataset sizes')\n",
    "print (np.shape(X_f_s), np.shape(z_f_s), np.shape(y_f_s))\n",
    "print (np.shape(X_test_s), np.shape(z_test_s), np.shape(y_test_s))"
   ]
  },
  {
   "cell_type": "code",
   "execution_count": 10,
   "metadata": {},
   "outputs": [
    {
     "name": "stdout",
     "output_type": "stream",
     "text": [
      "Building GP_f between [X_f_s,z_f_s] and y_f_s\n",
      "Optimization restart 1/10, f = 46.65060429719325\n",
      "Optimization restart 2/10, f = 67.43728587470841\n",
      "Optimization restart 3/10, f = 63.23565828061106\n",
      "Optimization restart 4/10, f = 54.75035721089837\n",
      "Optimization restart 5/10, f = 57.619265851667755\n",
      "Optimization restart 6/10, f = 52.08467395509016\n",
      "Optimization restart 7/10, f = 53.321508050397995\n",
      "Optimization restart 8/10, f = 83.8466748070968\n",
      "Optimization restart 9/10, f = 56.25137822063527\n",
      "Optimization restart 10/10, f = 60.53214914329962\n",
      "\n",
      "Name : GP regression\n",
      "Objective : 46.65060429719325\n",
      "Number of Parameters : 28\n",
      "Number of Optimization Parameters : 28\n",
      "Updates : True\n",
      "Parameters:\n",
      "  \u001b[1mGP_regression.         \u001b[0;0m  |                value  |  constraints  |  priors\n",
      "  \u001b[1mrbf.variance           \u001b[0;0m  |    1.052228512396038  |      +ve      |        \n",
      "  \u001b[1mrbf.lengthscale        \u001b[0;0m  |                (26,)  |      +ve      |        \n",
      "  \u001b[1mGaussian_noise.variance\u001b[0;0m  |  0.00544483238105818  |      +ve      |        \n",
      "  \u001b[1mindex\u001b[0;0m  |  GP_regression.Gaussian_noise.variance  |  constraints  |  priors\n",
      "  \u001b[1m[0]  \u001b[0;0m  |                             0.00544483  |      +ve      |        \n",
      "  \u001b[1mindex\u001b[0;0m  |     GP_regression.rbf.variance  |  constraints  |  priors\n",
      "  \u001b[1m[0]  \u001b[0;0m  |                     1.05222851  |      +ve      |        \n",
      "  \u001b[1m-----\u001b[0;0m  |  GP_regression.rbf.lengthscale  |  -----------  |  ------\n",
      "  \u001b[1m[0]  \u001b[0;0m  |                     1.16832862  |      +ve      |        \n",
      "  \u001b[1m[1]  \u001b[0;0m  |                216576.95393243  |      +ve      |        \n",
      "  \u001b[1m[2]  \u001b[0;0m  |                121325.68791187  |      +ve      |        \n",
      "  \u001b[1m[3]  \u001b[0;0m  |                235370.69493334  |      +ve      |        \n",
      "  \u001b[1m[4]  \u001b[0;0m  |                107325.97713386  |      +ve      |        \n",
      "  \u001b[1m[5]  \u001b[0;0m  |                177458.86146928  |      +ve      |        \n",
      "  \u001b[1m[6]  \u001b[0;0m  |                     6.67824918  |      +ve      |        \n",
      "  \u001b[1m[7]  \u001b[0;0m  |                353482.29812101  |      +ve      |        \n",
      "  \u001b[1m[8]  \u001b[0;0m  |                140272.14092508  |      +ve      |        \n",
      "  \u001b[1m[9]  \u001b[0;0m  |                 86543.66512538  |      +ve      |        \n",
      "  \u001b[1m[10] \u001b[0;0m  |                251936.47811818  |      +ve      |        \n",
      "  \u001b[1m[11] \u001b[0;0m  |                251099.21829634  |      +ve      |        \n",
      "  \u001b[1m[12] \u001b[0;0m  |                279660.07743416  |      +ve      |        \n",
      "  \u001b[1m[13] \u001b[0;0m  |                     0.45100567  |      +ve      |        \n",
      "  \u001b[1m[14] \u001b[0;0m  |                232749.41478177  |      +ve      |        \n",
      "  \u001b[1m[15] \u001b[0;0m  |                175601.98226371  |      +ve      |        \n",
      "  \u001b[1m[16] \u001b[0;0m  |                     0.60274543  |      +ve      |        \n",
      "  \u001b[1m[17] \u001b[0;0m  |                227407.40552665  |      +ve      |        \n",
      "  \u001b[1m[18] \u001b[0;0m  |                     1.00000000  |      +ve      |        \n",
      "  \u001b[1m[19] \u001b[0;0m  |                     5.48827092  |      +ve      |        \n",
      "  \u001b[1m[20] \u001b[0;0m  |                     6.90227585  |      +ve      |        \n",
      "  \u001b[1m[21] \u001b[0;0m  |                     8.66664611  |      +ve      |        \n",
      "  \u001b[1m[22] \u001b[0;0m  |                429255.82332818  |      +ve      |        \n",
      "  \u001b[1m[23] \u001b[0;0m  |                299186.89529269  |      +ve      |        \n",
      "  \u001b[1m[24] \u001b[0;0m  |                  2264.25550057  |      +ve      |        \n",
      "  \u001b[1m[25] \u001b[0;0m  |                     0.99342361  |      +ve      |        \n"
     ]
    }
   ],
   "source": [
    "print ('Building GP_f between [X_f_s,z_f_s] and y_f_s')\n",
    "kf = GPy.kern.RBF(np.hstack((X_f_s,z_f_s)).shape[1], ARD=True)\n",
    "mf = GPy.models.GPRegression(np.hstack((X_f_s,z_f_s)), y_f_s, kf)\n",
    "mf.optimize_restarts()\n",
    "print(mf)\n",
    "print(mf[\".*Gaussian_noise\"])\n",
    "print(mf[\".*rbf\"])"
   ]
  },
  {
   "cell_type": "code",
   "execution_count": 11,
   "metadata": {},
   "outputs": [
    {
     "name": "stdout",
     "output_type": "stream",
     "text": [
      "GP Predictions\n",
      "(126, 1, 1000)\n",
      "(32, 1, 1000)\n"
     ]
    }
   ],
   "source": [
    "print('GP Predictions') # posterior (f|y) and (f*|y)\n",
    "postsam_f = mf.posterior_samples_f(np.hstack((X_f_s,z_f_s)), size=1000) # posterior_samples_f gives epistemic uncertainity only\n",
    "postsam_f_un = scaler_y.inverse_transform(postsam_f) # un-normalized values\n",
    "print (postsam_f_un.shape)\n",
    "\n",
    "postsam_f_test = mf.posterior_samples_f(np.hstack((X_test_s,z_test_s)), size=1000) # posterior_samples_f gives epistemic uncertainity only\n",
    "postsam_f_test_un = scaler_y.inverse_transform(postsam_f_test) # un-normalized values \n",
    "print (postsam_f_test_un.shape)\n",
    "\n",
    "mupred_f, varpred_f = np.mean(postsam_f_un, axis=2), np.var(postsam_f_un, axis=2)\n",
    "mupred_f_test, varpred_f_test = np.mean(postsam_f_test_un, axis=2), np.var(postsam_f_test_un, axis=2)\n",
    "\n",
    "errbarpred_f = 1.96*np.sqrt(varpred_f)\n",
    "errbarpred_f_test = 1.96*np.sqrt(varpred_f_test)"
   ]
  },
  {
   "cell_type": "code",
   "execution_count": 12,
   "metadata": {
    "scrolled": false
   },
   "outputs": [
    {
     "name": "stdout",
     "output_type": "stream",
     "text": [
      "GP Predictions plots\n",
      "************************************************\n",
      "Strength MRel.AE train: 0.016003745130134372\n",
      "Strength MRel.AE test: 0.45591044525322166\n",
      "Strength MAE train: 15.617234049954895\n",
      "Strength MAE test: 383.0225007973364\n",
      "************************************************\n"
     ]
    },
    {
     "data": {
      "image/png": "[encoded data removed]",
      "text/plain": [
       "<Figure size 432x360 with 1 Axes>"
      ]
     },
     "metadata": {
      "needs_background": "light"
     },
     "output_type": "display_data"
    },
    {
     "data": {
      "image/png": "[encoded data removed]",
      "text/plain": [
       "<Figure size 432x360 with 1 Axes>"
      ]
     },
     "metadata": {
      "needs_background": "light"
     },
     "output_type": "display_data"
    }
   ],
   "source": [
    "from sklearn.metrics import mean_absolute_error\n",
    "def mean_relative_absolute_error(y_true, y_pred): \n",
    "    return np.mean( np.abs((y_pred-y_true)/y_true) )\n",
    "\n",
    "print('GP Predictions plots')\n",
    "Strength_MRelAE_train = mean_relative_absolute_error( y_f, mupred_f )\n",
    "Strength_MRelAE_test = mean_relative_absolute_error( y_test, mupred_f_test)\n",
    "\n",
    "Strength_MAE_train = mean_absolute_error( y_f,  mupred_f )\n",
    "Strength_MAE_test = mean_absolute_error( y_test,  mupred_f_test)\n",
    "\n",
    "print ('************************************************')\n",
    "print ('Strength MRel.AE train: '+str(Strength_MRelAE_train))\n",
    "print ('Strength MRel.AE test: '+str(Strength_MRelAE_test))\n",
    "\n",
    "print ('Strength MAE train: '+str(Strength_MAE_train))\n",
    "print ('Strength MAE test: '+str(Strength_MAE_test))\n",
    "print ('************************************************')\n",
    "\n",
    "fit = np.linspace(min(raw_data[S]),max(raw_data[S]),100)\n",
    "\n",
    "plt.figure(figsize=(6, 5))\n",
    "plt.subplot(1, 1, 1)\n",
    "plt.plot(y_f, mupred_f , 'o', color='blue', label='train', markersize=4)\n",
    "plt.plot(y_test, mupred_f_test, 'o', color='red', label='test', markersize=4)\n",
    "plt.plot(fit, fit, 'x', label='', color='black',markersize=2)\n",
    "plt.xlabel('Experimental strength', fontsize=10)\n",
    "plt.ylabel('Mean Predicted strength', fontsize=10)\n",
    "plt.legend(fontsize=10)\n",
    "\n",
    "plt.figure(figsize=(6, 5))\n",
    "plt.subplot(1, 1,1)\n",
    "plt.errorbar(y_f, mupred_f, yerr=errbarpred_f.flatten(), fmt='o', color='blue',markersize=4, label='train')\n",
    "plt.errorbar(y_test, mupred_f_test, yerr=errbarpred_f_test.flatten(), fmt='o', color='red',markersize=4, label='test')\n",
    "plt.plot(fit, fit, 'x', label='', color='black', markersize=2)\n",
    "plt.xlabel('Experimental strength', fontsize=10)\n",
    "plt.ylabel('Predicted strength', fontsize=10)\n",
    "plt.legend(fontsize=10)\n",
    "\n",
    "plt.savefig(os.path.join(resultdir,str(seed)+'-'+'Strength.pdf'),dpi=300)\n",
    "plt.show()\n",
    "plt.close()"
   ]
  },
  {
   "cell_type": "markdown",
   "metadata": {},
   "source": [
    "## Diagnostic checks"
   ]
  },
  {
   "cell_type": "markdown",
   "metadata": {},
   "source": [
    "If the model is correct i.e., if the statistics predicted by model is correct, then ECDF evaluated at the test data should follow a uniform distribution."
   ]
  },
  {
   "cell_type": "code",
   "execution_count": 13,
   "metadata": {},
   "outputs": [
    {
     "name": "stdout",
     "output_type": "stream",
     "text": [
      "(1000, 126) (1000, 32)\n"
     ]
    }
   ],
   "source": [
    "postsamples_f = postsam_f[:,0,:].T\n",
    "postsamples_f_test = postsam_f_test[:,0,:].T\n",
    "print(postsamples_f.shape, postsamples_f_test.shape)"
   ]
  },
  {
   "cell_type": "code",
   "execution_count": 14,
   "metadata": {},
   "outputs": [
    {
     "name": "stdout",
     "output_type": "stream",
     "text": [
      "0.07378910746890885\n"
     ]
    }
   ],
   "source": [
    "sigma_f = np.sqrt(mf.Gaussian_noise.variance.values[0])\n",
    "print(sigma_f)"
   ]
  },
  {
   "cell_type": "code",
   "execution_count": 15,
   "metadata": {},
   "outputs": [
    {
     "name": "stdout",
     "output_type": "stream",
     "text": [
      "(1000, 32)\n",
      "(32, 1)\n"
     ]
    },
    {
     "data": {
      "image/png": "[encoded data removed]",
      "text/plain": [
       "<Figure size 600x400 with 1 Axes>"
      ]
     },
     "metadata": {
      "needs_background": "light"
     },
     "output_type": "display_data"
    },
    {
     "data": {
      "image/png": "[encoded data removed]",
      "text/plain": [
       "<Figure size 432x360 with 1 Axes>"
      ]
     },
     "metadata": {},
     "output_type": "display_data"
    },
    {
     "name": "stdout",
     "output_type": "stream",
     "text": [
      "KstestResult(statistic=0.357, pvalue=0.00037164963731538297)\n"
     ]
    },
    {
     "data": {
      "text/plain": [
       "Text(0.5, 0, '$k_i$')"
      ]
     },
     "execution_count": 15,
     "metadata": {},
     "output_type": "execute_result"
    },
    {
     "data": {
      "image/png": "[encoded data removed]",
      "text/plain": [
       "<Figure size 600x400 with 1 Axes>"
      ]
     },
     "metadata": {},
     "output_type": "display_data"
    }
   ],
   "source": [
    "# predictive posterior (y*|y)\n",
    "predpostsamples_f_test = np.zeros((postsamples_f_test.shape[0], postsamples_f_test.shape[1])) \n",
    "for i in range(predpostsamples_f_test.shape[0]):\n",
    "    predpostsamples_f_test[i,:] = pm.Normal.dist(mu=postsamples_f_test[i,:], \n",
    "                                                sigma=sigma_f).random()\n",
    "predpostsamples_f_test_un = scaler_y.inverse_transform(predpostsamples_f_test)\n",
    "print (predpostsamples_f_test_un.shape)\n",
    "print (y_test.shape)\n",
    "\n",
    "# https://www.statsmodels.org/stable/generated/statsmodels.distributions.empirical_distribution.ECDF.html\n",
    "from statsmodels.distributions.empirical_distribution import ECDF\n",
    "\n",
    "ecdf_y_test = []\n",
    "for i in range(y_test.shape[0]):\n",
    "    ecdf = ECDF(predpostsamples_f_test_un[:,i]) # Build ECDF with all samples\n",
    "    ecdf_y_test.append(ecdf(y_test[i])[0]) # CDF evaluated at test points\n",
    "    \n",
    "    \n",
    "fig, ax = plt.subplots(dpi=100)\n",
    "ax.plot(ecdf_y_test, 'o', color='red', markersize=3)\n",
    "ax.plot(np.arange(y_test.shape[0]), 0.0 * np.ones(y_test.shape[0]), 'r--')\n",
    "ax.plot(np.arange(y_test.shape[0]), 1.0 * np.ones(y_test.shape[0]), 'r--')\n",
    "ax.set_xlabel('$i$')\n",
    "ax.set_ylabel('$ECDF \\ at \\ Strength \\ test$');\n",
    "\n",
    "plt.rcParams.update({'font.size': 12})\n",
    "import statsmodels.api as sm\n",
    "import scipy.stats as st\n",
    "import pylab\n",
    "sns.set_style(\"white\")\n",
    "fig, ax = plt.subplots(figsize=(6,5))\n",
    "fig_ = sm.qqplot(np.asarray(ecdf_y_test), st.uniform, loc=0, scale=1, marker='.', markerfacecolor='r', markeredgecolor='r', markersize=3, alpha=1, ax=ax)\n",
    "sm.qqline(fig_.axes[0], line='45', fmt='k--')\n",
    "ax.set_title('Q-Q Plot', fontsize=12)\n",
    "ax.set_xlabel('Uniform quantiles', fontsize=12)\n",
    "ax.set_ylabel('k sample quantiles', fontsize=12)\n",
    "ax.tick_params(bottom=True, left=True)\n",
    "fig.savefig(os.path.join(resultdir,str(seed)+'-'+'q-q_plot_Strength_test.pdf'),dpi=300)\n",
    "plt.show()\n",
    "plt.close()\n",
    "\n",
    "# https://www.geeksforgeeks.org/ml-kolmogorov-smirnov-test/\n",
    "res = st.kstest(ecdf_y_test,\"uniform\")    \n",
    "print(res) \n",
    "\n",
    "ks = ecdf_y_test\n",
    "fig, ax = plt.subplots(dpi=100)\n",
    "ps = np.linspace(-0.5, 1.5, 100)\n",
    "ax.plot(ps, st.uniform.pdf(ps))\n",
    "ax.hist(ks, density=True, alpha=0.5, bins = 30)\n",
    "ax.set_xlabel('$k_i$')"
   ]
  },
  {
   "cell_type": "code",
   "execution_count": 16,
   "metadata": {},
   "outputs": [
    {
     "name": "stdout",
     "output_type": "stream",
     "text": [
      "Required outputs:\n",
      "Seed used to split train and test data: 9\n",
      "Strength MRel.AE test: 0.45591044525322166\n",
      "Strength MAE test: 383.0225007973364\n",
      "Strength KS test: 0.357\n"
     ]
    }
   ],
   "source": [
    "print ('Required outputs:')\n",
    "print ('Seed used to split train and test data: '+str(seed_subset_selection)) \n",
    "print ('Strength MRel.AE test: '+str(Strength_MRelAE_test))\n",
    "print ('Strength MAE test: '+str(Strength_MAE_test))\n",
    "print ('Strength KS test: '+str(res.statistic))"
   ]
  },
  {
   "cell_type": "code",
   "execution_count": 17,
   "metadata": {},
   "outputs": [
    {
     "data": {
      "text/plain": [
       "array([[1302.  ],\n",
       "       [1112.  ],\n",
       "       [ 793.  ],\n",
       "       [1160.  ],\n",
       "       [1923.15],\n",
       "       [ 220.  ],\n",
       "       [2297.94],\n",
       "       [1272.  ],\n",
       "       [1280.  ],\n",
       "       [1260.  ],\n",
       "       [ 540.  ],\n",
       "       [1625.  ],\n",
       "       [ 225.  ],\n",
       "       [1314.5 ],\n",
       "       [ 618.8 ],\n",
       "       [3416.  ],\n",
       "       [2161.7 ],\n",
       "       [1304.  ],\n",
       "       [1370.  ],\n",
       "       [1513.  ],\n",
       "       [ 230.  ],\n",
       "       [1317.  ],\n",
       "       [ 586.  ],\n",
       "       [ 964.  ],\n",
       "       [ 650.  ],\n",
       "       [1641.  ],\n",
       "       [1250.  ],\n",
       "       [1749.  ],\n",
       "       [1525.  ],\n",
       "       [ 300.  ],\n",
       "       [ 357.  ],\n",
       "       [1650.  ]])"
      ]
     },
     "execution_count": 17,
     "metadata": {},
     "output_type": "execute_result"
    }
   ],
   "source": [
    "y_test"
   ]
  }
 ],
 "metadata": {
  "kernelspec": {
   "display_name": "Python 3",
   "language": "python",
   "name": "python3"
  },
  "language_info": {
   "codemirror_mode": {
    "name": "ipython",
    "version": 3
   },
   "file_extension": ".py",
   "mimetype": "text/x-python",
   "name": "python",
   "nbconvert_exporter": "python",
   "pygments_lexer": "ipython3",
   "version": "3.6.10"
  }
 },
 "nbformat": 4,
 "nbformat_minor": 4
}
